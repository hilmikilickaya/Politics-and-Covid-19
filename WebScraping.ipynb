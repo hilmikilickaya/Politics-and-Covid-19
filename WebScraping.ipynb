{
 "cells": [
  {
   "cell_type": "code",
   "execution_count": 1,
   "metadata": {},
   "outputs": [],
   "source": [
    "import requests\n",
    "from bs4 import BeautifulSoup as bs\n",
    "import json\n",
    "import pandas as pd"
   ]
  },
  {
   "cell_type": "code",
   "execution_count": 33,
   "metadata": {},
   "outputs": [
    {
     "data": {
      "text/plain": [
       "200"
      ]
     },
     "execution_count": 33,
     "metadata": {},
     "output_type": "execute_result"
    }
   ],
   "source": [
    "api_url ='https://api.covidtracking.com/v1/states/daily.json'\n",
    "r= requests.get(api_url)\n",
    "r.status_code"
   ]
  },
  {
   "cell_type": "code",
   "execution_count": 34,
   "metadata": {},
   "outputs": [],
   "source": [
    "data = r.json()"
   ]
  },
  {
   "cell_type": "code",
   "execution_count": 35,
   "metadata": {},
   "outputs": [
    {
     "name": "stdout",
     "output_type": "stream",
     "text": [
      "<class 'pandas.core.frame.DataFrame'>\n",
      "RangeIndex: 13999 entries, 0 to 13998\n",
      "Data columns (total 55 columns):\n",
      " #   Column                       Non-Null Count  Dtype  \n",
      "---  ------                       --------------  -----  \n",
      " 0   date                         13999 non-null  int64  \n",
      " 1   state                        13999 non-null  object \n",
      " 2   positive                     13866 non-null  float64\n",
      " 3   probableCases                4302 non-null   float64\n",
      " 4   negative                     13697 non-null  float64\n",
      " 5   pending                      1539 non-null   float64\n",
      " 6   totalTestResultsSource       13999 non-null  object \n",
      " 7   totalTestResults             13964 non-null  float64\n",
      " 8   hospitalizedCurrently        10977 non-null  float64\n",
      " 9   hospitalizedCumulative       8116 non-null   float64\n",
      " 10  inIcuCurrently               6463 non-null   float64\n",
      " 11  inIcuCumulative              2352 non-null   float64\n",
      " 12  onVentilatorCurrently        5305 non-null   float64\n",
      " 13  onVentilatorCumulative       813 non-null    float64\n",
      " 14  recovered                    9910 non-null   float64\n",
      " 15  dataQualityGrade             12748 non-null  object \n",
      " 16  lastUpdateEt                 13520 non-null  object \n",
      " 17  dateModified                 13520 non-null  object \n",
      " 18  checkTimeEt                  13520 non-null  object \n",
      " 19  death                        13181 non-null  float64\n",
      " 20  hospitalized                 8116 non-null   float64\n",
      " 21  dateChecked                  13520 non-null  object \n",
      " 22  totalTestsViral              8631 non-null   float64\n",
      " 23  positiveTestsViral           4268 non-null   float64\n",
      " 24  negativeTestsViral           2971 non-null   float64\n",
      " 25  positiveCasesViral           10811 non-null  float64\n",
      " 26  deathConfirmed               5893 non-null   float64\n",
      " 27  deathProbable                4321 non-null   float64\n",
      " 28  totalTestEncountersViral     3228 non-null   float64\n",
      " 29  totalTestsPeopleViral        5869 non-null   float64\n",
      " 30  totalTestsAntibody           2552 non-null   float64\n",
      " 31  positiveTestsAntibody        1869 non-null   float64\n",
      " 32  negativeTestsAntibody        820 non-null    float64\n",
      " 33  totalTestsPeopleAntibody     1055 non-null   float64\n",
      " 34  positiveTestsPeopleAntibody  654 non-null    float64\n",
      " 35  negativeTestsPeopleAntibody  652 non-null    float64\n",
      " 36  totalTestsPeopleAntigen      399 non-null    float64\n",
      " 37  positiveTestsPeopleAntigen   278 non-null    float64\n",
      " 38  totalTestsAntigen            747 non-null    float64\n",
      " 39  positiveTestsAntigen         499 non-null    float64\n",
      " 40  fips                         13999 non-null  object \n",
      " 41  positiveIncrease             13999 non-null  int64  \n",
      " 42  negativeIncrease             13999 non-null  int64  \n",
      " 43  total                        13999 non-null  int64  \n",
      " 44  totalTestResultsIncrease     13999 non-null  int64  \n",
      " 45  posNeg                       13999 non-null  int64  \n",
      " 46  deathIncrease                13999 non-null  int64  \n",
      " 47  hospitalizedIncrease         13999 non-null  int64  \n",
      " 48  hash                         13999 non-null  object \n",
      " 49  commercialScore              13999 non-null  int64  \n",
      " 50  negativeRegularScore         13999 non-null  int64  \n",
      " 51  negativeScore                13999 non-null  int64  \n",
      " 52  positiveScore                13999 non-null  int64  \n",
      " 53  score                        13999 non-null  int64  \n",
      " 54  grade                        13999 non-null  object \n",
      "dtypes: float64(32), int64(13), object(10)\n",
      "memory usage: 5.9+ MB\n"
     ]
    }
   ],
   "source": [
    "df = pd.DataFrame.from_dict(r.json())\n",
    "df.to_csv(r'covid-19.csv',index=False)\n",
    "df.info()"
   ]
  },
  {
   "cell_type": "code",
   "execution_count": null,
   "metadata": {},
   "outputs": [],
   "source": []
  }
 ],
 "metadata": {
  "kernelspec": {
   "display_name": "Python 3",
   "language": "python",
   "name": "python3"
  },
  "language_info": {
   "codemirror_mode": {
    "name": "ipython",
    "version": 3
   },
   "file_extension": ".py",
   "mimetype": "text/x-python",
   "name": "python",
   "nbconvert_exporter": "python",
   "pygments_lexer": "ipython3",
   "version": "3.7.9"
  }
 },
 "nbformat": 4,
 "nbformat_minor": 4
}
